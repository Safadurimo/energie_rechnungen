{
 "cells": [
  {
   "cell_type": "markdown",
   "metadata": {},
   "source": [
    "Zunächt definieren wir die Norm-Konstanten:"
   ]
  },
  {
   "cell_type": "code",
   "execution_count": 9,
   "metadata": {},
   "outputs": [],
   "source": [
    "p_norm = 1.01325\n",
    "T_norm = 273.15"
   ]
  },
  {
   "cell_type": "markdown",
   "metadata": {},
   "source": [
    "Nun definieren wir die Formel die, aus dem der geodätischen Höhe den Lufddruck bestimmt:"
   ]
  },
  {
   "cell_type": "code",
   "execution_count": 10,
   "metadata": {},
   "outputs": [],
   "source": [
    "def p_amb_alt(h):\n",
    "    return 1.016-0.00012*h\n",
    "def p_amb(h):\n",
    "    return 1.0148-0.0001142*h"
   ]
  },
  {
   "cell_type": "markdown",
   "metadata": {},
   "source": [
    "Nun können wir die Formel definieren, die aus geodätischer Höhe und Effektivdruck die Z-Zahl bestimmt:\n",
    "\n",
    "$z(h,p_{eff}) = \\frac{T_{norm} \\left( p_{amb}+p_{eff} \\right)}{\\left(T_{norm} + 15\\right) p_{norm} } $"
   ]
  },
  {
   "cell_type": "code",
   "execution_count": 11,
   "metadata": {},
   "outputs": [],
   "source": [
    "def z(h,p_eff):\n",
    "    return T_norm/(T_norm + 15)*(p_amb(h)+p_eff)/p_norm"
   ]
  },
  {
   "cell_type": "markdown",
   "metadata": {},
   "source": [
    "Jetzt berechnen wir für das Beispiel in Oldenburg ( 8m Höhe) und einen Haushalstasnschlzss im Einfamilienhaus den Wert für zu:"
   ]
  },
  {
   "cell_type": "code",
   "execution_count": 12,
   "metadata": {},
   "outputs": [
    {
     "name": "stdout",
     "output_type": "stream",
     "text": [
      "0.9701\n"
     ]
    }
   ],
   "source": [
    "print(round(z(8,0.023),4))"
   ]
  },
  {
   "cell_type": "markdown",
   "metadata": {},
   "source": [
    "Jetzt das Beispiel aus der Wikipedia:"
   ]
  },
  {
   "cell_type": "code",
   "execution_count": 21,
   "metadata": {},
   "outputs": [
    {
     "name": "stdout",
     "output_type": "stream",
     "text": [
      "948.6\n",
      "0.9103\n"
     ]
    }
   ],
   "source": [
    "def beispiel_aus_wiki():\n",
    "    h = 562\n",
    "    p = round(1016-0.12*562,1)\n",
    "    print(p)\n",
    "    p_e = 24\n",
    "    z = round(T_norm/(T_norm + 15)*(round(p,0)+p_e)/(1013.25),4)\n",
    "    print(z)\n",
    "beispiel_aus_wiki()"
   ]
  },
  {
   "cell_type": "code",
   "execution_count": null,
   "metadata": {},
   "outputs": [],
   "source": []
  },
  {
   "cell_type": "markdown",
   "metadata": {},
   "source": [
    "\n",
    "Ideales Gasgleichung:\n",
    "\n",
    "$ pV = nRT $\n",
    "\n",
    "\n",
    "- p für den Druck,\n",
    "- V für das Volumen,\n",
    "- n für die Anzahl der Mole,\n",
    "- R für die universelle Gaskonstante,\n",
    "- T für die Temperatur.\n",
    "\n",
    "\n",
    "\n",
    "Mit Z als Kompressibiltätsfaktor wird diese Gleiche zur realen Gasgleichung erweitert:\n",
    "\n",
    "$ pV = nRTZ $\n",
    "\n",
    "Nutzt man die Gleichung für das Betriebsvolumen und das Normvolumen und setzt sie gleich, ergbibt sich:\n",
    "\n",
    "$V_N = V_b \\cdot \\frac{p_b}{p_n} \\cdot \\frac{T_n}{T_b} \\cdot \\frac{Z_n}{Z_b}$\n",
    "\n",
    "Wir definieren die Kompessibiltätszahl k als\n",
    "\n",
    "$1/K \\coloneqq \\frac{Z_n}{Z_b}$\n",
    "\n",
    "und die Zustandszahl z als\n",
    "\n",
    "$z \\coloneqq  \\frac{p_b}{p_n} \\cdot \\frac{T_n}{T_b}   \\cdot  1/K $\n",
    "\n",
    "$F_{\\text{korr}} =  \\frac{K_{\\text{mu}}}{K_{\\text{wahr}}} $\n",
    "\n",
    "Damit kann das echte Normvolumen wie folgt ermittelt werden:\n",
    "\n",
    "$V_{\\text{N,wahr}} = V_{\\text{N,mu}} \\cdot  F_{\\text{korr}} $\n",
    "\n",
    "\n",
    "\n",
    "\n",
    "\n",
    "\n",
    "Energierermittlung:\n",
    "\n",
    "$ E = V_N \\cdot H $\n",
    "\n",
    "$ V_N = z \\cdot V_B $\n",
    "\n"
   ]
  }
 ],
 "metadata": {
  "kernelspec": {
   "display_name": "Python 3",
   "language": "python",
   "name": "python3"
  },
  "language_info": {
   "codemirror_mode": {
    "name": "ipython",
    "version": 3
   },
   "file_extension": ".py",
   "mimetype": "text/x-python",
   "name": "python",
   "nbconvert_exporter": "python",
   "pygments_lexer": "ipython3",
   "version": "3.12.1"
  }
 },
 "nbformat": 4,
 "nbformat_minor": 2
}
