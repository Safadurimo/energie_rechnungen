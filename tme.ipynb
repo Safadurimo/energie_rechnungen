{
 "cells": [
  {
   "cell_type": "code",
   "execution_count": 6,
   "metadata": {},
   "outputs": [
    {
     "name": "stdout",
     "output_type": "stream",
     "text": [
      "1.2311808670462545\n"
     ]
    }
   ],
   "source": [
    "p_norm = 1.01325\n",
    "T_norm = 273.15\n",
    "def p_amb(h):\n",
    "    return 1.016-0.00012*h\n",
    "p_eff = 0,3\n",
    "def z(p_amb,p_eff):\n",
    "    return T_norm/(T_norm + 15)*(p_amb+p_eff)/p_norm\n",
    "print(z(1.016,0.3))"
   ]
  }
 ],
 "metadata": {
  "kernelspec": {
   "display_name": "Python 3",
   "language": "python",
   "name": "python3"
  },
  "language_info": {
   "codemirror_mode": {
    "name": "ipython",
    "version": 3
   },
   "file_extension": ".py",
   "mimetype": "text/x-python",
   "name": "python",
   "nbconvert_exporter": "python",
   "pygments_lexer": "ipython3",
   "version": "3.12.1"
  }
 },
 "nbformat": 4,
 "nbformat_minor": 2
}
