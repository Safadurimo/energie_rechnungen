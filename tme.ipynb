{
 "cells": [
  {
   "cell_type": "markdown",
   "metadata": {},
   "source": [
    "Zunächt definieren wir die Norm-Konstanten:"
   ]
  },
  {
   "cell_type": "code",
   "execution_count": 23,
   "metadata": {},
   "outputs": [],
   "source": [
    "p_norm = 1.01325\n",
    "T_norm = 273.15"
   ]
  },
  {
   "cell_type": "markdown",
   "metadata": {},
   "source": [
    "Nun definieren wir die Formel die, aus dem der geodätischen Höhe den Lufddruck bestimmt:"
   ]
  },
  {
   "cell_type": "code",
   "execution_count": 24,
   "metadata": {},
   "outputs": [],
   "source": [
    "def p_amb(h):\n",
    "    return 1.016-0.00012*h"
   ]
  },
  {
   "cell_type": "markdown",
   "metadata": {},
   "source": [
    "Nun können wir die Formel definieren, die aus geodätischer Höhe und Effektivdruck die Z-Zahl bestimmt:\n",
    "\n",
    "$z(h,p_{eff}) = \\frac{T_{norm} \\left( p_{amb}+p_{eff} \\right)}{\\left(T_{norm} + 15\\right) p_{norm} } $"
   ]
  },
  {
   "cell_type": "code",
   "execution_count": 25,
   "metadata": {},
   "outputs": [],
   "source": [
    "def z(h,p_eff):\n",
    "    return T_norm/(T_norm + 15)*(p_amb(h)+p_eff)/p_norm"
   ]
  },
  {
   "cell_type": "markdown",
   "metadata": {},
   "source": [
    "Jetzt berechnen wir für das Beispiel in Oldenburg ( 8m Höhe) und einen Haushalstasnschlzss im Einfamilienhaus den Wert für zu:"
   ]
  },
  {
   "cell_type": "code",
   "execution_count": null,
   "metadata": {},
   "outputs": [
    {
     "name": "stdout",
     "output_type": "stream",
     "text": [
      "0.9486\n",
      "0.9711\n"
     ]
    }
   ],
   "source": [
    "\n",
    "print(round(z(8,0.023),4))"
   ]
  },
  {
   "cell_type": "markdown",
   "metadata": {},
   "source": [
    "Jetzt das Beispiel aus der Wikipedia:"
   ]
  },
  {
   "cell_type": "code",
   "execution_count": 32,
   "metadata": {},
   "outputs": [
    {
     "name": "stdout",
     "output_type": "stream",
     "text": [
      "0.9486\n",
      "0.9099\n"
     ]
    }
   ],
   "source": [
    "print(round(p_amb(562),4))\n",
    "print(round(z(562, 0.024),4))"
   ]
  },
  {
   "cell_type": "code",
   "execution_count": null,
   "metadata": {},
   "outputs": [],
   "source": []
  }
 ],
 "metadata": {
  "kernelspec": {
   "display_name": "Python 3",
   "language": "python",
   "name": "python3"
  },
  "language_info": {
   "codemirror_mode": {
    "name": "ipython",
    "version": 3
   },
   "file_extension": ".py",
   "mimetype": "text/x-python",
   "name": "python",
   "nbconvert_exporter": "python",
   "pygments_lexer": "ipython3",
   "version": "3.12.1"
  }
 },
 "nbformat": 4,
 "nbformat_minor": 2
}
