{
 "cells": [
  {
   "cell_type": "code",
   "execution_count": 29,
   "id": "15fde1db",
   "metadata": {},
   "outputs": [],
   "source": [
    "def h(A,B,C,D,m_h,b_h,m_w,b_w,T):\n",
    "    return A/(1+(B/(T-40))**C)+D+max(m_h*T+b_h,m_w*T+b_w)"
   ]
  },
  {
   "cell_type": "code",
   "execution_count": 30,
   "id": "0bd35786",
   "metadata": {},
   "outputs": [
    {
     "data": {
      "text/plain": [
       "0.999999785786174"
      ]
     },
     "execution_count": 30,
     "metadata": {},
     "output_type": "execute_result"
    }
   ],
   "source": [
    "A = 1.3819663\n",
    "B = -37.4124155\n",
    "C = 6.1723179\n",
    "D = 0.0396284\n",
    "m_H = -0.0672159\n",
    "b_H = 1.1167138\n",
    "m_W = -0.0019982\n",
    "b_W = 0.1355070\n",
    "def h_hef34(T):\n",
    "    return h(A,B,C,D,m_H,b_H,m_W,b_W,T)\n",
    "\n",
    "h_hef34(8)"
   ]
  }
 ],
 "metadata": {
  "kernelspec": {
   "display_name": "Python 3",
   "language": "python",
   "name": "python3"
  },
  "language_info": {
   "codemirror_mode": {
    "name": "ipython",
    "version": 3
   },
   "file_extension": ".py",
   "mimetype": "text/x-python",
   "name": "python",
   "nbconvert_exporter": "python",
   "pygments_lexer": "ipython3",
   "version": "3.12.1"
  }
 },
 "nbformat": 4,
 "nbformat_minor": 5
}
